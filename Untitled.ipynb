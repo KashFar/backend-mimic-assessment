{
 "cells": [
  {
   "cell_type": "code",
   "execution_count": 2,
   "metadata": {},
   "outputs": [
    {
     "name": "stdout",
     "output_type": "stream",
     "text": [
      "{'1': 1, '2': 2}\n",
      "6\n"
     ]
    }
   ],
   "source": [
    "kvps = { '1' : 1, '2' : 2 }\n",
    "theCopy = kvps.copy()\n",
    "print theCopy\n",
    "kvps['1'] = 5\n",
    "\n",
    "sum = kvps['1'] + theCopy['1']\n",
    "print(sum)"
   ]
  },
  {
   "cell_type": "code",
   "execution_count": 3,
   "metadata": {},
   "outputs": [
    {
     "name": "stdout",
     "output_type": "stream",
     "text": [
      "10\n"
     ]
    }
   ],
   "source": [
    "kvps = { '1' : 1, '2' : 2 }\n",
    "theCopy = kvps\n",
    "\n",
    "kvps['1'] = 5\n",
    "\n",
    "sum = kvps['1'] + theCopy['1']\n",
    "print(sum)"
   ]
  },
  {
   "cell_type": "code",
   "execution_count": 6,
   "metadata": {},
   "outputs": [
    {
     "name": "stdout",
     "output_type": "stream",
     "text": [
      "10\n"
     ]
    }
   ],
   "source": [
    "aList = [1,2]\n",
    "bList = [3,4]\n",
    "\n",
    "kvps = { '1' : aList, '2' : bList }\n",
    "theCopy = kvps.copy()\n",
    "\n",
    "kvps['1'][0] = 5\n",
    "\n",
    "sum = kvps['1'][0] + theCopy['1'][0]\n",
    "print(sum)"
   ]
  },
  {
   "cell_type": "code",
   "execution_count": 8,
   "metadata": {},
   "outputs": [
    {
     "name": "stdout",
     "output_type": "stream",
     "text": [
      "5\n",
      "1\n",
      "6\n"
     ]
    }
   ],
   "source": [
    "import copy\n",
    "\n",
    "aList = [1,2]\n",
    "bList = [3,4]\n",
    "\n",
    "kvps = { '1' : aList, '2' : bList }\n",
    "theCopy = copy.deepcopy(kvps)\n",
    "\n",
    "kvps['1'][0] = 5\n",
    "\n",
    "sum = kvps['1'][0] + theCopy['1'][0]\n",
    "print kvps['1'][0]\n",
    "print theCopy['1'][0]\n",
    "print(sum)"
   ]
  },
  {
   "cell_type": "code",
   "execution_count": 9,
   "metadata": {},
   "outputs": [
    {
     "name": "stdout",
     "output_type": "stream",
     "text": [
      "1\n",
      "6\n"
     ]
    }
   ],
   "source": [
    "kvps = { '1' : 1, '2' : 2 }\n",
    "theCopy = dict(kvps)\n",
    "\n",
    "kvps['1'] = 5\n",
    "\n",
    "sum = kvps['1'] + theCopy['1']\n",
    "print(theCopy['1'])\n",
    "print(sum)"
   ]
  },
  {
   "cell_type": "code",
   "execution_count": 11,
   "metadata": {},
   "outputs": [
    {
     "ename": "TypeError",
     "evalue": "'int' object is not callable",
     "output_type": "error",
     "traceback": [
      "\u001b[0;31m------------------------------------------------------------------\u001b[0m",
      "\u001b[0;31mTypeError\u001b[0m                        Traceback (most recent call last)",
      "\u001b[0;32m<ipython-input-11-f34fb93356ec>\u001b[0m in \u001b[0;36m<module>\u001b[0;34m()\u001b[0m\n\u001b[1;32m      4\u001b[0m \u001b[0mkvps\u001b[0m\u001b[0;34m.\u001b[0m\u001b[0mupdate\u001b[0m\u001b[0;34m(\u001b[0m\u001b[0mnewData\u001b[0m\u001b[0;34m)\u001b[0m\u001b[0;34m\u001b[0m\u001b[0m\n\u001b[1;32m      5\u001b[0m \u001b[0;34m\u001b[0m\u001b[0m\n\u001b[0;32m----> 6\u001b[0;31m \u001b[0mx\u001b[0m \u001b[0;34m=\u001b[0m \u001b[0msum\u001b[0m\u001b[0;34m(\u001b[0m\u001b[0mkvps\u001b[0m\u001b[0;34m.\u001b[0m\u001b[0mvalues\u001b[0m\u001b[0;34m(\u001b[0m\u001b[0;34m)\u001b[0m\u001b[0;34m)\u001b[0m\u001b[0;34m\u001b[0m\u001b[0m\n\u001b[0m\u001b[1;32m      7\u001b[0m \u001b[0;34m\u001b[0m\u001b[0m\n\u001b[1;32m      8\u001b[0m \u001b[0;32mprint\u001b[0m\u001b[0;34m(\u001b[0m\u001b[0mx\u001b[0m\u001b[0;34m)\u001b[0m\u001b[0;34m\u001b[0m\u001b[0m\n",
      "\u001b[0;31mTypeError\u001b[0m: 'int' object is not callable"
     ]
    }
   ],
   "source": [
    "kvps = { '1' : 1, '2' : 2 , '3' : 3, '4' : 4, '5' : 5}\n",
    "newData = { '1' : 10, '3' : 30 }\n",
    "\n",
    "kvps.update(newData)\n",
    "\n",
    "x = sum(kvps.values())\n",
    "\n",
    "print(x)"
   ]
  },
  {
   "cell_type": "code",
   "execution_count": 17,
   "metadata": {},
   "outputs": [
    {
     "name": "stdout",
     "output_type": "stream",
     "text": [
      "6\n"
     ]
    }
   ],
   "source": [
    "confusion = {}\n",
    "confusion[1] = 1\n",
    "confusion['1'] = 2\n",
    "confusion[1.0] = 4\n",
    "\n",
    "sum = 0\n",
    "for k in confusion:\n",
    "    sum += confusion[k]\n",
    "\n",
    "print(sum)"
   ]
  },
  {
   "cell_type": "code",
   "execution_count": 20,
   "metadata": {},
   "outputs": [
    {
     "name": "stdout",
     "output_type": "stream",
     "text": [
      "2\n"
     ]
    }
   ],
   "source": [
    "boxes = {}\n",
    "jars = {}\n",
    "crates = {}\n",
    "\n",
    "boxes['cereal'] = 1\n",
    "boxes['candy'] = 2\n",
    "jars['honey'] = 4\n",
    "crates['boxes'] = boxes\n",
    "crates['jars'] = jars\n",
    "\n",
    "print(len(crates['boxes']))"
   ]
  },
  {
   "cell_type": "code",
   "execution_count": 21,
   "metadata": {},
   "outputs": [
    {
     "name": "stdout",
     "output_type": "stream",
     "text": [
      "0\n"
     ]
    }
   ],
   "source": [
    "foo = {1:'1', 2:'2', 3:'3'}\n",
    "foo = {}\n",
    "print(len(foo))"
   ]
  },
  {
   "cell_type": "code",
   "execution_count": 24,
   "metadata": {},
   "outputs": [
    {
     "name": "stdout",
     "output_type": "stream",
     "text": [
      "33\n"
     ]
    }
   ],
   "source": [
    "numberGames = {}\n",
    "numberGames[(1,2,4)] = 8\n",
    "numberGames[(4,2,1)] = 10\n",
    "numberGames[(1,2)] = 12\n",
    "\n",
    "sum = 0\n",
    "for k in numberGames:\n",
    "    sum += numberGames[k]\n",
    "print(len(numberGames) + sum)\n"
   ]
  },
  {
   "cell_type": "code",
   "execution_count": 25,
   "metadata": {},
   "outputs": [
    {
     "name": "stdout",
     "output_type": "stream",
     "text": [
      "2\n"
     ]
    }
   ],
   "source": [
    "foo = {1:'1', 2:'2', 3:'3'}\n",
    "del foo[1]\n",
    "foo[1] = '10'\n",
    "del foo[2]\n",
    "print(len(foo))\n"
   ]
  },
  {
   "cell_type": "code",
   "execution_count": 26,
   "metadata": {},
   "outputs": [
    {
     "ename": "TypeError",
     "evalue": "'int' object is not callable",
     "output_type": "error",
     "traceback": [
      "\u001b[0;31m------------------------------------------------------------------\u001b[0m",
      "\u001b[0;31mTypeError\u001b[0m                        Traceback (most recent call last)",
      "\u001b[0;32m<ipython-input-26-f34fb93356ec>\u001b[0m in \u001b[0;36m<module>\u001b[0;34m()\u001b[0m\n\u001b[1;32m      4\u001b[0m \u001b[0mkvps\u001b[0m\u001b[0;34m.\u001b[0m\u001b[0mupdate\u001b[0m\u001b[0;34m(\u001b[0m\u001b[0mnewData\u001b[0m\u001b[0;34m)\u001b[0m\u001b[0;34m\u001b[0m\u001b[0m\n\u001b[1;32m      5\u001b[0m \u001b[0;34m\u001b[0m\u001b[0m\n\u001b[0;32m----> 6\u001b[0;31m \u001b[0mx\u001b[0m \u001b[0;34m=\u001b[0m \u001b[0msum\u001b[0m\u001b[0;34m(\u001b[0m\u001b[0mkvps\u001b[0m\u001b[0;34m.\u001b[0m\u001b[0mvalues\u001b[0m\u001b[0;34m(\u001b[0m\u001b[0;34m)\u001b[0m\u001b[0;34m)\u001b[0m\u001b[0;34m\u001b[0m\u001b[0m\n\u001b[0m\u001b[1;32m      7\u001b[0m \u001b[0;34m\u001b[0m\u001b[0m\n\u001b[1;32m      8\u001b[0m \u001b[0;32mprint\u001b[0m\u001b[0;34m(\u001b[0m\u001b[0mx\u001b[0m\u001b[0;34m)\u001b[0m\u001b[0;34m\u001b[0m\u001b[0m\n",
      "\u001b[0;31mTypeError\u001b[0m: 'int' object is not callable"
     ]
    }
   ],
   "source": [
    "kvps = { '1' : 1, '2' : 2 , '3' : 3, '4' : 4, '5' : 5}\n",
    "newData = { '1' : 10, '3' : 30 }\n",
    "\n",
    "kvps.update(newData)\n",
    "\n",
    "x = sum(kvps.values())\n",
    "\n",
    "print(x)"
   ]
  },
  {
   "cell_type": "code",
   "execution_count": 27,
   "metadata": {},
   "outputs": [],
   "source": [
    "\n",
    "def mimic_dict(filename):\n",
    "    \"\"\"Returns mimic dict mapping each word to list of words which follow it.\"\"\"\n",
    "    mimic_dict = {}\n",
    "    f = open(filename, 'r')\n",
    "    text = f.read()\n",
    "    f.close()\n",
    "    words = text.split()\n",
    "    for word in words:\n",
    "        if previous not in mimic_dict:\n",
    "            mimic_dict[''] = [word]\n",
    "        else:\n",
    "            mimic_dict[previous].append(word)\n",
    "        previous = word\n",
    "    return mimic_dict\n",
    "\n",
    "def print_mimic(mimic_dict, word):\n",
    "    \"\"\"Given mimic dict and start word, prints 200 random words.\"\"\"\n",
    "    for i in range(200):\n",
    "        print word,\n",
    "        next_word = mimic_dict.get(word)\n",
    "        if not next_word:\n",
    "            next_word = mimic_dict['']\n",
    "        word = random.choice(next_word)"
   ]
  },
  {
   "cell_type": "code",
   "execution_count": 29,
   "metadata": {},
   "outputs": [
    {
     "ename": "SyntaxError",
     "evalue": "invalid syntax (<ipython-input-29-90d053165887>, line 1)",
     "output_type": "error",
     "traceback": [
      "\u001b[0;36m  File \u001b[0;32m\"<ipython-input-29-90d053165887>\"\u001b[0;36m, line \u001b[0;32m1\u001b[0m\n\u001b[0;31m    alice = \"\"Alice was beginning to get very tired of sitting by her sister\u001b[0m\n\u001b[0m                  ^\u001b[0m\n\u001b[0;31mSyntaxError\u001b[0m\u001b[0;31m:\u001b[0m invalid syntax\n"
     ]
    }
   ],
   "source": [
    "alice = \"\"Alice was beginning to get very tired of sitting by her sister\n",
    "on the bank, and of having nothing to do:  once or twice she had\n",
    "peeped into the book her sister was reading, but it had no\n",
    "pictures or conversations in it, `and what is the use of a book,'\n",
    "thought Alice `without pictures or conversation?'\n",
    "\n",
    "  So she was considering in her own mind (as well as she could,\n",
    "for the hot day made her feel very sleepy and stupid), whether\n",
    "the pleasure of making a daisy-chain would be worth the trouble\n",
    "of getting up and picking the daisies, when suddenly a White\n",
    "Rabbit with pink eyes ran close by her.\n",
    "\n",
    "  There was nothing so VERY remarkable in that; nor did Alice\n",
    "think it so VERY much out of the way to hear the Rabbit say to\n",
    "itself, `Oh dear!  Oh dear!  I shall be late!'  (when she thought\n",
    "it over afterwards, it occurred to her that she ought to have\n",
    "wondered at this, but at the time it all seemed quite natural);\n",
    "but when the Rabbit actually TOOK A WATCH OUT OF ITS WAISTCOAT-\n",
    "POCKET, and looked at it, and then hurried on, Alice start\"\""
   ]
  },
  {
   "cell_type": "code",
   "execution_count": null,
   "metadata": {},
   "outputs": [],
   "source": []
  }
 ],
 "metadata": {
  "kernelspec": {
   "display_name": "Python 2",
   "language": "python",
   "name": "python2"
  },
  "language_info": {
   "codemirror_mode": {
    "name": "ipython",
    "version": 2
   },
   "file_extension": ".py",
   "mimetype": "text/x-python",
   "name": "python",
   "nbconvert_exporter": "python",
   "pygments_lexer": "ipython2",
   "version": "2.7.16"
  }
 },
 "nbformat": 4,
 "nbformat_minor": 2
}
